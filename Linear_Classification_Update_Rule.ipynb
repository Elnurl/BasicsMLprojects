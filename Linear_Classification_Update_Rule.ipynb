{
 "cells": [
  {
   "cell_type": "code",
   "execution_count": null,
   "metadata": {},
   "outputs": [],
   "source": [
    "import numpy as np\n",
    "class PerceptronClass:\n",
    "    def __init__(self,learning_rate=0.01,num_iters=1000):\n",
    "        self.weights=None\n",
    "        self.bias=None\n",
    "        self.num_iterators=num_iters\n",
    "        self.lr=learning_rate\n",
    "\n",
    "    def _uni_step_func(self,x):\n",
    "        return np.where(x>=0,1,0)\n",
    "    def fit (self,x,y):\n",
    "        "
   ]
  },
  {
   "cell_type": "code",
   "execution_count": null,
   "metadata": {},
   "outputs": [],
   "source": []
  }
 ],
 "metadata": {
  "language_info": {
   "name": "python"
  },
  "orig_nbformat": 4
 },
 "nbformat": 4,
 "nbformat_minor": 2
}
